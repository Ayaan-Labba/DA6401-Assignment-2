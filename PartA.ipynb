{
 "cells": [
  {
   "cell_type": "code",
   "execution_count": 2,
   "id": "f176c3ef",
   "metadata": {},
   "outputs": [],
   "source": [
    "import torch.nn as nn\n",
    "import torch.nn.functional as F"
   ]
  },
  {
   "cell_type": "code",
   "execution_count": null,
   "id": "3cad2ea0",
   "metadata": {},
   "outputs": [],
   "source": [
    "class CNN(nn.Module):\n",
    "    def __init__(self, \n",
    "                 in_channels=3, \n",
    "                 num_classes=10, \n",
    "                 filter_sizes=[64, 64, 64, 64, 64], \n",
    "                 kernel_sizes=[3, 3, 3, 3, 3],\n",
    "                 activation_fn=nn.ReLU(),\n",
    "                 dense_neurons=256,\n",
    "                 input_size=(224, 224),\n",
    "                 use_batchnorm=False,\n",
    "                 dropout_rate=0.0):\n",
    "        super(SimpleCNN, self).__init__()\n",
    "        \n",
    "        self.conv_layers = nn.ModuleList()\n",
    "        self.batch_norms = nn.ModuleList()\n",
    "        self.use_batchnorm = use_batchnorm\n",
    "        self.activation_fn = activation_fn\n",
    "        \n",
    "        # First layer takes the input channels\n",
    "        channels = [in_channels] + filter_sizes\n",
    "        \n",
    "        # Create the convolutional blocks\n",
    "        for i in range(len(filter_sizes)):\n",
    "            self.conv_layers.append(\n",
    "                nn.Conv2d(channels[i], channels[i+1], kernel_size=kernel_sizes[i], padding=kernel_sizes[i]//2)\n",
    "            )\n",
    "            if self.use_batchnorm:\n",
    "                self.batch_norms.append(nn.BatchNorm2d(channels[i+1]))\n",
    "        \n",
    "        # Calculate the output dimensions after convolutions and pooling\n",
    "        # Start with the input dimensions\n",
    "        height, width = input_size\n",
    "        \n",
    "        # After each conv layer, we have a max pooling with kernel size 2 and stride 2\n",
    "        for _ in range(len(filter_sizes)):\n",
    "            # Max pooling reduces dimensions by half\n",
    "            height //= 2\n",
    "            width //= 2\n",
    "        \n",
    "        # Calculate flattened feature size\n",
    "        flattened_size = filter_sizes[-1] * height * width\n",
    "        \n",
    "        # Define fully connected layers\n",
    "        self.fc1 = nn.Linear(flattened_size, dense_neurons)\n",
    "        self.fc2 = nn.Linear(dense_neurons, num_classes)\n",
    "        self.dropout = nn.Dropout(dropout_rate)\n",
    "    \n",
    "    def forward(self, x):\n",
    "        # Apply convolution blocks\n",
    "        for i, conv in enumerate(self.conv_layers):\n",
    "            x = conv(x)\n",
    "            if self.use_batchnorm:\n",
    "                x = self.batch_norms[i](x)\n",
    "            x = self.activation_fn(x)\n",
    "            x = F.max_pool2d(x, 2, 2)  # Max pooling with 2x2 kernel and stride 2\n",
    "        \n",
    "        # Flatten the output\n",
    "        x = x.view(x.size(0), -1)\n",
    "        \n",
    "        # Apply fully connected layers\n",
    "        x = self.activation_fn(self.fc1(x))\n",
    "        x = self.dropout(x)\n",
    "        x = self.fc2(x)\n",
    "        \n",
    "        return x"
   ]
  },
  {
   "cell_type": "code",
   "execution_count": null,
   "id": "6e732371",
   "metadata": {},
   "outputs": [],
   "source": [
    "import torchvision.transforms as transforms\n",
    "from torch.utils.data import Dataset, DataLoader, random_split"
   ]
  },
  {
   "cell_type": "code",
   "execution_count": null,
   "id": "8c61e9d7",
   "metadata": {},
   "outputs": [],
   "source": [
    "import os\n",
    "import numpy as np\n",
    "from PIL import Image\n",
    "import wandb\n",
    "import matplotlib.pyplot as plt"
   ]
  }
 ],
 "metadata": {
  "kernelspec": {
   "display_name": "base",
   "language": "python",
   "name": "python3"
  },
  "language_info": {
   "codemirror_mode": {
    "name": "ipython",
    "version": 3
   },
   "file_extension": ".py",
   "mimetype": "text/x-python",
   "name": "python",
   "nbconvert_exporter": "python",
   "pygments_lexer": "ipython3",
   "version": "3.12.4"
  }
 },
 "nbformat": 4,
 "nbformat_minor": 5
}
